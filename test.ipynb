{
 "cells": [
  {
   "cell_type": "code",
   "execution_count": 1,
   "metadata": {},
   "outputs": [
    {
     "ename": "SystemExit",
     "evalue": "Incorrect protocol has been chosen for testing. Try again.",
     "output_type": "error",
     "traceback": [
      "An exception has occurred, use %tb to see the full traceback.\n",
      "\u001b[1;31mSystemExit\u001b[0m\u001b[1;31m:\u001b[0m Incorrect protocol has been chosen for testing. Try again.\n"
     ]
    },
    {
     "name": "stderr",
     "output_type": "stream",
     "text": [
      "C:\\ProgramData\\Anaconda3\\lib\\site-packages\\IPython\\core\\interactiveshell.py:3452: UserWarning: To exit: use 'exit', 'quit', or Ctrl-D.\n",
      "  warn(\"To exit: use 'exit', 'quit', or Ctrl-D.\", stacklevel=1)\n"
     ]
    }
   ],
   "source": [
    "import numpy as np\n",
    "import sys\n",
    "import pickle\n",
    "    \n",
    "def icmp_test(attributes):\n",
    "    model = pickle.load(open(\"./saved_model/icmp_data.sav\", 'rb'))\n",
    "    result = model.predict([attributes])\n",
    "    print(result)\n",
    "\n",
    "def udp_test(attributes):\n",
    "    model = pickle.load(open(\"./saved_model/udp_data.sav\", 'rb'))\n",
    "    result = model.predict([attributes])\n",
    "    print(result)\n",
    "\n",
    "def tcp_syn_test(attributes):\n",
    "    model = pickle.load(open(\"./saved_model/tcp_syn_data.sav\", 'rb'))\n",
    "    result = model.predict([attributes])\n",
    "    print(result)\n",
    "\n",
    "if __name__ == \"__main__\":\n",
    "    if sys.argv[1] == \"icmp\": \n",
    "        icmp_test(sys.argv[2:])\n",
    "    elif sys.argv[1] == \"tcp_syn\":\n",
    "        tcp_syn_test(sys.argv[2:])\n",
    "    elif sys.argv[1] == \"udp\":\n",
    "        udp_test(sys.argv[2:])\n",
    "    else:\n",
    "        sys.exit(\"Incorrect protocol has been chosen for testing. Try again.\")"
   ]
  },
  {
   "cell_type": "code",
   "execution_count": null,
   "metadata": {},
   "outputs": [],
   "source": []
  }
 ],
 "metadata": {
  "kernelspec": {
   "display_name": "Python 3 (ipykernel)",
   "language": "python",
   "name": "python3"
  },
  "language_info": {
   "codemirror_mode": {
    "name": "ipython",
    "version": 3
   },
   "file_extension": ".py",
   "mimetype": "text/x-python",
   "name": "python",
   "nbconvert_exporter": "python",
   "pygments_lexer": "ipython3",
   "version": "3.9.7"
  }
 },
 "nbformat": 4,
 "nbformat_minor": 4
}
